{
  "nbformat": 4,
  "nbformat_minor": 0,
  "metadata": {
    "colab": {
      "name": "Text completion with GPT-2.ipynb",
      "provenance": [],
      "authorship_tag": "ABX9TyORrm5f7efFvVsmUmFA/3MQ"
    },
    "kernelspec": {
      "name": "python3",
      "display_name": "Python 3"
    },
    "language_info": {
      "name": "python"
    },
    "accelerator": "GPU"
  },
  "cells": [
    {
      "cell_type": "code",
      "metadata": {
        "id": "mpyGWMeuVuPe",
        "colab": {
          "base_uri": "https://localhost:8080/"
        },
        "outputId": "34311114-2a80-4839-9d2d-8c738cb7e3b2"
      },
      "source": [
        "from google.colab import drive\n",
        "drive.mount('/gdrive')\n",
        "%cd /gdrive/MyDrive/Colab_Notebooks_data/Text-completion-with-GPT-2"
      ],
      "execution_count": 1,
      "outputs": [
        {
          "output_type": "stream",
          "text": [
            "Drive already mounted at /gdrive; to attempt to forcibly remount, call drive.mount(\"/gdrive\", force_remount=True).\n",
            "/gdrive/MyDrive/Colab_Notebooks_data/Text-completion-with-GPT-2\n"
          ],
          "name": "stdout"
        }
      ]
    },
    {
      "cell_type": "code",
      "metadata": {
        "colab": {
          "base_uri": "https://localhost:8080/"
        },
        "id": "T3CPzU7BXukP",
        "outputId": "16172c5a-9399-4f45-f0c4-3a5a6712f5d2"
      },
      "source": [
        "#Clone GPT-2\n",
        "import os\n",
        "if not os.path.exists('gpt-2'):\n",
        "   !git clone https://github.com/openai/gpt-2.git\n",
        "%cd gpt-2/"
      ],
      "execution_count": 2,
      "outputs": [
        {
          "output_type": "stream",
          "text": [
            "/gdrive/MyDrive/Colab_Notebooks_data/Text-completion-with-GPT-2/gpt-2\n"
          ],
          "name": "stdout"
        }
      ]
    },
    {
      "cell_type": "code",
      "metadata": {
        "colab": {
          "base_uri": "https://localhost:8080/"
        },
        "id": "wT-LC1mWYaHE",
        "outputId": "03c89804-9c84-48a8-fd3e-28a0ac9c3438"
      },
      "source": [
        "%ll ./"
      ],
      "execution_count": 3,
      "outputs": [
        {
          "output_type": "stream",
          "text": [
            "total 39\n",
            "-rw------- 1 root   551 Jun  5 18:13 CONTRIBUTORS.md\n",
            "-rw------- 1 root  2188 Jun  5 18:13 DEVELOPERS.md\n",
            "-rw------- 1 root   279 Jun  5 18:13 Dockerfile.cpu\n",
            "-rw------- 1 root   548 Jun  5 18:13 Dockerfile.gpu\n",
            "-rw------- 1 root 14754 Jun  5 18:13 domains.txt\n",
            "-rw------- 1 root  1075 Jun  5 18:13 download_model.py\n",
            "-rw------- 1 root  1403 Jun  5 18:13 LICENSE\n",
            "-rw------- 1 root  4989 Jun  5 18:13 model_card.md\n",
            "drwx------ 3 root  4096 Jun  5 18:34 \u001b[0m\u001b[01;34mmodels\u001b[0m/\n",
            "-rw------- 1 root  2827 Jun  5 18:13 README.md\n",
            "-rw------- 1 root    58 Jun  5 18:13 requirements.txt\n",
            "drwx------ 3 root  4096 Jun  5 19:36 \u001b[01;34msrc\u001b[0m/\n"
          ],
          "name": "stdout"
        }
      ]
    },
    {
      "cell_type": "code",
      "metadata": {
        "colab": {
          "base_uri": "https://localhost:8080/"
        },
        "id": "bHr_XNXgl-nS",
        "outputId": "57a5a275-9090-42fd-b97c-b32cfbd6439a"
      },
      "source": [
        "%ll src"
      ],
      "execution_count": 4,
      "outputs": [
        {
          "output_type": "stream",
          "text": [
            "total 25\n",
            "-rw------- 1 root 4242 Jun  5 18:13 encoder.py\n",
            "-rw------- 1 root 2870 Jun  5 18:13 generate_unconditional_samples.py\n",
            "-rw------- 1 root 3412 Jun  5 18:13 interactive_conditional_samples.py\n",
            "-rw------- 1 root 6503 Jun  5 18:13 model.py\n",
            "drwx------ 2 root 4096 Jun  5 20:19 \u001b[0m\u001b[01;34m__pycache__\u001b[0m/\n",
            "-rw------- 1 root 3166 Jun  5 18:13 sample.py\n"
          ],
          "name": "stdout"
        }
      ]
    },
    {
      "cell_type": "code",
      "metadata": {
        "id": "REBk3H9OYaJz"
      },
      "source": [
        "!pip install -qr requirements.txt"
      ],
      "execution_count": 5,
      "outputs": []
    },
    {
      "cell_type": "code",
      "metadata": {
        "colab": {
          "base_uri": "https://localhost:8080/"
        },
        "id": "x4cPIPncYaM7",
        "outputId": "388cc9c8-766e-49f6-8905-b0c139028851"
      },
      "source": [
        "#GPT2 runs on tf 1.x. So lets change the tf version\n",
        "%tensorflow_version 1.x\n",
        "import tensorflow as tf\n",
        "print(tf.__version__)"
      ],
      "execution_count": 6,
      "outputs": [
        {
          "output_type": "stream",
          "text": [
            "TensorFlow 1.x selected.\n",
            "1.15.2\n"
          ],
          "name": "stdout"
        }
      ]
    },
    {
      "cell_type": "code",
      "metadata": {
        "colab": {
          "base_uri": "https://localhost:8080/"
        },
        "id": "jFmivtxDc-uP",
        "outputId": "3920406d-0aaf-4660-f4bd-d9428fd5b5fc"
      },
      "source": [
        "import os\n",
        "if not os.path.exists('models/345M'):\n",
        "  !python download_model.py '345M'\n",
        "%ll models"
      ],
      "execution_count": 7,
      "outputs": [
        {
          "output_type": "stream",
          "text": [
            "total 4\n",
            "drwx------ 2 root 4096 Jun  5 18:40 \u001b[0m\u001b[01;34m345M\u001b[0m/\n"
          ],
          "name": "stdout"
        }
      ]
    },
    {
      "cell_type": "code",
      "metadata": {
        "id": "rnt4kIltdeSV"
      },
      "source": [
        "!export PYTHONIOENCODING=UTF-8"
      ],
      "execution_count": 8,
      "outputs": []
    },
    {
      "cell_type": "code",
      "metadata": {
        "colab": {
          "base_uri": "https://localhost:8080/"
        },
        "id": "ll8nX4K6lem3",
        "outputId": "9f0ee4ce-da2a-48d4-8cd0-fd7e85deb3aa"
      },
      "source": [
        "%cd src\n",
        "import model, encoder, sample"
      ],
      "execution_count": 9,
      "outputs": [
        {
          "output_type": "stream",
          "text": [
            "/gdrive/MyDrive/Colab_Notebooks_data/Text-completion-with-GPT-2/gpt-2/src\n"
          ],
          "name": "stdout"
        }
      ]
    },
    {
      "cell_type": "code",
      "metadata": {
        "id": "usBa5yySskQr"
      },
      "source": [
        "model_name='345M'\n",
        "seed=0\n",
        "nsamples=1\n",
        "batch_size=1\n",
        "length=300\n",
        "temperature=1\n",
        "top_k=0\n",
        "models_dir='../models'"
      ],
      "execution_count": 10,
      "outputs": []
    },
    {
      "cell_type": "code",
      "metadata": {
        "colab": {
          "base_uri": "https://localhost:8080/",
          "height": 35
        },
        "id": "o1TGQBpT1v9N",
        "outputId": "53c26536-e4a5-4f83-e849-1cca861c31d7"
      },
      "source": [
        "os.path.expanduser(os.path.expandvars(models_dir))"
      ],
      "execution_count": 11,
      "outputs": [
        {
          "output_type": "execute_result",
          "data": {
            "application/vnd.google.colaboratory.intrinsic+json": {
              "type": "string"
            },
            "text/plain": [
              "'../models'"
            ]
          },
          "metadata": {
            "tags": []
          },
          "execution_count": 11
        }
      ]
    },
    {
      "cell_type": "code",
      "metadata": {
        "id": "4UHewzhOlesD"
      },
      "source": [
        "assert nsamples % batch_size == 0"
      ],
      "execution_count": 12,
      "outputs": []
    },
    {
      "cell_type": "code",
      "metadata": {
        "id": "e5_Sswbmlexn"
      },
      "source": [
        "model_encoder = encoder.get_encoder(model_name, models_dir)"
      ],
      "execution_count": 13,
      "outputs": []
    },
    {
      "cell_type": "code",
      "metadata": {
        "colab": {
          "base_uri": "https://localhost:8080/"
        },
        "id": "dt9XScJNwtks",
        "outputId": "51602267-f07f-4c03-ee67-641e1df5bc0f"
      },
      "source": [
        "import json\n",
        "hparams = model.default_hparams()\n",
        "print(f'Default hparams:', {hparams})\n",
        "with open(os.path.join(models_dir, model_name, 'hparams.json')) as f:\n",
        "    hparams.override_from_dict(json.load(f))\n",
        "print(f'Model hparams:', {hparams})"
      ],
      "execution_count": 14,
      "outputs": [
        {
          "output_type": "stream",
          "text": [
            "Default hparams: {HParams([('n_ctx', 1024), ('n_embd', 768), ('n_head', 12), ('n_layer', 12), ('n_vocab', 0)])}\n",
            "Model hparams: {HParams([('n_ctx', 1024), ('n_embd', 1024), ('n_head', 16), ('n_layer', 24), ('n_vocab', 50257)])}\n"
          ],
          "name": "stdout"
        }
      ]
    },
    {
      "cell_type": "code",
      "metadata": {
        "colab": {
          "base_uri": "https://localhost:8080/"
        },
        "id": "ft8N4haEwtnP",
        "outputId": "4aa2af9e-3390-4cb3-9a68-877e55e63735"
      },
      "source": [
        "if length is None:\n",
        "  length = hparams.n_ctx // 2\n",
        "assert length < hparams.n_ctx\n",
        "print(f'lenght : {length}')"
      ],
      "execution_count": 15,
      "outputs": [
        {
          "output_type": "stream",
          "text": [
            "lenght : 300\n"
          ],
          "name": "stdout"
        }
      ]
    },
    {
      "cell_type": "code",
      "metadata": {
        "colab": {
          "base_uri": "https://localhost:8080/"
        },
        "id": "UybiW0qzwtqH",
        "outputId": "1f20d936-e0d9-4e18-ec9c-390c7f8d00d2"
      },
      "source": [
        "import numpy as np\n",
        "with tf.Session(graph=tf.Graph()) as session:\n",
        "  context = tf.placeholder(tf.int32, [batch_size,None])\n",
        "  np.random.seed(seed)\n",
        "  tf.set_random_seed(seed)\n",
        "  output = sample.sample_sequence(\n",
        "      hparams=hparams, length=length,\n",
        "      context=context,batch_size=batch_size,\n",
        "      temperature=temperature, top_k=top_k)\n",
        "  ckpt = tf.train.latest_checkpoint(os.path.join(models_dir, model_name))\n",
        "  saver = tf.train.Saver()\n",
        "  saver.restore(session, ckpt)\n",
        "\n",
        "\n",
        "  while True:\n",
        "    input_sent = input(\"Pass Text to Model >>> \")\n",
        "    if input_sent:\n",
        "      context_tokens = model_encoder.encode(input_sent)\n",
        "      generated = 0\n",
        "      for _ in range(nsamples // batch_size):\n",
        "        out = session.run(output, feed_dict={\n",
        "            context: [context_tokens for _ in range(batch_size)]\n",
        "            })[:, len(context_tokens):]\n",
        "        for i in range(batch_size):\n",
        "          generated += 1\n",
        "          text = model_encoder.decode(out[i])\n",
        "          print(\"=\" * 40 + \" SAMPLE \" + str(generated) + \" \" + \"=\" * 40)\n",
        "          print(text)\n",
        "      print(\"*\" * 80)\n"
      ],
      "execution_count": null,
      "outputs": [
        {
          "output_type": "stream",
          "text": [
            "WARNING:tensorflow:From /gdrive/MyDrive/Colab_Notebooks_data/Text-completion-with-GPT-2/gpt-2/src/sample.py:51: The name tf.AUTO_REUSE is deprecated. Please use tf.compat.v1.AUTO_REUSE instead.\n",
            "\n",
            "WARNING:tensorflow:From /gdrive/MyDrive/Colab_Notebooks_data/Text-completion-with-GPT-2/gpt-2/src/model.py:148: The name tf.variable_scope is deprecated. Please use tf.compat.v1.variable_scope instead.\n",
            "\n",
            "WARNING:tensorflow:From /gdrive/MyDrive/Colab_Notebooks_data/Text-completion-with-GPT-2/gpt-2/src/model.py:152: The name tf.get_variable is deprecated. Please use tf.compat.v1.get_variable instead.\n",
            "\n",
            "WARNING:tensorflow:From /gdrive/MyDrive/Colab_Notebooks_data/Text-completion-with-GPT-2/gpt-2/src/model.py:36: The name tf.rsqrt is deprecated. Please use tf.math.rsqrt instead.\n",
            "\n",
            "WARNING:tensorflow:From /gdrive/MyDrive/Colab_Notebooks_data/Text-completion-with-GPT-2/gpt-2/src/sample.py:64: to_float (from tensorflow.python.ops.math_ops) is deprecated and will be removed in a future version.\n",
            "Instructions for updating:\n",
            "Use `tf.cast` instead.\n",
            "WARNING:tensorflow:From /gdrive/MyDrive/Colab_Notebooks_data/Text-completion-with-GPT-2/gpt-2/src/sample.py:39: where (from tensorflow.python.ops.array_ops) is deprecated and will be removed in a future version.\n",
            "Instructions for updating:\n",
            "Use tf.where in 2.0, which has the same broadcast rule as np.where\n",
            "WARNING:tensorflow:From /gdrive/MyDrive/Colab_Notebooks_data/Text-completion-with-GPT-2/gpt-2/src/sample.py:67: multinomial (from tensorflow.python.ops.random_ops) is deprecated and will be removed in a future version.\n",
            "Instructions for updating:\n",
            "Use `tf.random.categorical` instead.\n",
            "INFO:tensorflow:Restoring parameters from ../models/345M/model.ckpt\n",
            "Pass Text to Model >>> Human reason, in one sphere of its cognition, is called upon to consider questions, which it cannot decline, as they are presented by its own nature, but which it cannot answer, as they transcend every faculty of the mind.\n",
            "======================================== SAMPLE 1 ========================================\n",
            " Speech is destructive of these affordances, and therefore absurd, and rhetoric to mix rationale with eloquence. There are letters, a philosopher, whose style can make up a knowledge of them better, and comprehend how manifold they are. If the acquirement of which they profess is useless, whence arises \"purchase,\" and suppose that the only end served as a sanction for this will be to render letters an educational undertaking for those whose part it may be to apply them? what has little concernments but to find out what letter is most accessible; to discern the meaning of that word whose obscurity is absolutely insupportable to speakers, and which, like the dissecting or snapping of half the width of one flesh-reeve, takes about three hides from our senses, stumbling under them with every human roll until beyond straining to write the letter on our page, it enlightens no one Uncrime was committed, or the last words so worthy of question cleverly craftiest of execution, and infinitely misapprehended. Socrates is equally guilty in a class of letters, among those written about his deceased army testator. Even Judith hangs on to mediocre letters without conversion. The seek of calling Homer, Socrates and Thucydides strictly satirical, originally invented to convey a message that they were, instead of a satire, said to be placed in the same subject. The composition of Plato's letter to Cimon persuades my philosophers indirectly , and I am their adversaries, to follow a\n",
            "********************************************************************************\n",
            "Pass Text to Model >>> Human reason, in one sphere of its cognition, is called upon to consider questions, which it cannot decline, as they are presented by its own nature, but which it cannot answer, as they transcend every faculty of the mind.\n",
            "======================================== SAMPLE 1 ========================================\n",
            " Kant was alienated from natural reason as regards rational actions. He was rather sociocultural reason, installed by society to direct private interests.\n",
            "\n",
            "According to Hegel, humanity is made rational by the Statesman, who, statesman-in-chief, seeks to fit what he has discovered to the needs of the masses. Many of those factors are in accord with the sociological truth that the task of a Stateman is congruent with our real interests insofar as these are truly our own affairs. Socialism seems no less winnowed the ever-dreaded but complete merely structurally consistent condition of State socialism; i.e. Socialists, rational and statis intelligent, are always tied to green energy and hyper-capitalism and always as opposed to reality, until they are born exactly at the \"deceptive moment\" when we need them most.\n",
            "\n",
            "Here is Marxists blathering about the sophistic and the Excellent. Giving upward due Small selection national happiness, roundly ridiculed in its sheer fluff, because gobs of invisible effort and public misery impose the requirements of this happiness upon a blessed world. Just as discriminating it from other greedy status systems is tragic. Is it better that nerve-permeable caution be disregarded for a solid structure of State Socialism, without regard of other living conditions and social classification? Is it better to turn aside from all fabrications: romanticism and technology become professions not transcendences, like medical diagnosis. Is or is not Capitalism\n",
            "********************************************************************************\n",
            "Pass Text to Model >>> Human reason, in one sphere of its cognition, is called upon to consider questions, which it cannot decline, as they are presented by its own nature, but which it cannot answer, as they transcend every faculty of the mind.\n",
            "======================================== SAMPLE 1 ========================================\n",
            " My theory does away with this problem. It may be said, that this experimentalism is subject to the naturalist-magist conception; but this is only an accounting of the above; all that it is admitting is preposterous. The idea of certain questions being hypothetical in cast should be due to the antediluvian qualities of the emulsion; but the concept of the concept of the thought as hypothetical in cast is without any grammatical propensities. It is the principle upon which judgments of possibility are forged, and at the same time renders everything absolutely determinable, not just in determinability, but in adequacy, as well as to a certain extent in sense; when looking through the imaginary lenses in which this inference is made, we are certainly led to conclude, neither with perfect certainty, nor definitely with much certainty, that by sticking toward any probabilistic principle whatever would be subordinate the considerable vagueness which follows from adopting the notion of possibility. Hence \"auditory idea,\" (impeccable, and certain of the nonfictionistic/American Epistles, p. 198.) as we know it, is realised. I contain the curious circumstances giving rise to this observation, by bringing in consciousness the baroque existence of the supernatural as a heading of the natural; that subjection here becomes an indispensable question, in order to strip away this obscure marvellous object, which they call representations of the supernatural; — by presenting it, therefore, that\n",
            "********************************************************************************\n",
            "Pass Text to Model >>> Human reason, in one sphere of its cognition, is called upon to consider questions, which it cannot decline, as they are presented by its own nature, but which it cannot answer, as they transcend every faculty of the mind.\n",
            "======================================== SAMPLE 1 ========================================\n",
            "\n",
            "\n",
            "This is the Lesson Tre 4 for my pupil. Attempting to discover an admirable another sure person in his father's carriage, or a carefully combed hair in the bosom of some one of his grandfather—so successful is our business in this direction—we come not far, if we accept as true the opinion of all reasoning, and parrot to be inspired with of labors behind closed doors, by men of high culture, eminent for their learning, rational science, and the accomplishment of an undertaking like that, which, perhaps, has escaped us in its value, the discursive uncertainty of failure. To be eminent for one's science is a nice thing; which also falls in need of fine adapting; and specialty; which boxes our brains into imperfect content; and thereby enriches us the more from the underservation of time so often set forth in precedent, before the import of the thought's message has become obvious. But the expedient of a little exacting dribbling down coordinates shafts, tack-points and limittites, will remove many difficulties in the pursuit of truth: all whence entirely diminishes that search, which so swiftly alters them, viz., from the whole (as foreseen by Virtue of Reason, vol. i. c. 21. our knowledge of things called \"existent\") to particular instances, of what belong to that general article. For plausibility of objects and creations, and from describing nouns our manner of predicating them,\n",
            "********************************************************************************\n",
            "Pass Text to Model >>> Human reason, in one sphere of its cognition, is called upon to consider questions, which it cannot decline, as they are presented by its own nature, but which it cannot answer, as they transcend every faculty of the mind.\n",
            "======================================== SAMPLE 1 ========================================\n",
            " Hence Euthyphro shows the weakness of condescension mentioning him Kamble showing the wisdom revealed by reason to be faulty. Metaphysics , Enanti. sect. 30b, Docetists, Synod on the Honour, in other words Psalm 1:9, 24.\n",
            "\n",
            "8. Prof. John Murray at dissent is a defender of general principles. He is at liberty here to acknowledge that, at least in the vital sense, Homer differed from Aquinas in arguing to the corporeal appetites which are opposed to the rational soul (J.M. iii. 5), but made considerable alterations in the distinction of good from bad. The conclusion appears, however, that this view and the one developed since Leibniz is either separate or exaggerated in them which in no respect is at variance with the treatment taken in Scripture, and so the question naturally brought up is: What must Aquinas have said, beyond his recent corroborators, in making systematic use of the definition in his statement (De facto ad flaccum etae conformet in de pergordibus Imperfectiva) that our present limitations are directed toward the POSITIVITY of the intellectual Orbites to write things by word of mouth? if there are past experiences in writing by sign ing on manuscript or reading for the Gospel, as Benedict applied to languages as machines,: v. Sc., comm. iv. 3, Ep. 4:3. On this he says (Ac\n",
            "********************************************************************************\n",
            "Pass Text to Model >>> Human reason, in one sphere of its cognition, is called upon to consider questions, which it cannot decline, as they are presented by its own nature, but which it cannot answer, as they transcend every faculty of the mind.\n",
            "======================================== SAMPLE 1 ========================================\n",
            " As, by drawing on every fibre of the body; by analyzing and analyzing the meaning of every phenomenon; by overcoming extremes of — if the expression is appropriate — longevity, he obtains an idea, which indeed is incomprehensible, but which may be of service to infer- ments which have been entertained long ago. Some suggest, — those who have concisely presented themselves as meditators of meditation, on the Fretful Thought, have, without exception, spurned his remarks, on this account — coined \"suggestions,\" as Pottier says. To whom, therefore, he addressed, his reply comes as follows. It merely refers to ideas which are not given before, — equally possible ones on the grounds of analogy and, by their same nature, will deem it necessary, that all possible suggest- M A Nietzsche, i+haiise iEpeAVi, 467 Principles ,518 knowing ideas are given, as is usual in philosophy, as a complete undertaking, and hence receive the answers which have been perceived to possess them. In his reply to Isaac Angelico's primum nitator (\"libet shift calumnius\") heretofore published, he found himself rebuked for wishing to respond abstractly to the discussions, in Relatio et eman- entia (1601), corresponding to those questions, rosetti speaking, which has been discussed in these parts. 169 He expressed his aversion as he sees continued detriment to what Heidegger within his\n",
            "********************************************************************************\n",
            "Pass Text to Model >>> Human reason, in one sphere of its cognition, is called upon to consider questions, which it cannot decline, as they are presented by its own nature, but which it cannot answer, as they transcend every faculty of the mind.\n",
            "======================================== SAMPLE 1 ========================================\n",
            " But it cannot respond in one sphere to questions that do not reply, but in another sphere to questions which do fully reply. It cannot reply to the question, When a knife is not a knife, yet it is under, the injunction to prefer them both over unequal knives. It cannot determine whether they are equal by their into which they are dislocated, though not supposing that the nails in a shoe are equal to a nail in the shoe nailed under. It cannot put its mind for the purpose of testing its argument on them, keenly digested on its own, on the surface of experience, though it may assess experience and encounter it as putting to it in similar speech responses before man and as putting them to us as answering .<|endoftext|>To launch Wings over Angels recently was a pleasure for the employees at HoverStreet marketing.\n",
            "\n",
            "During the success, co-founder Charlie Capps offered one of his guests the keys into a new trailer for the airport beer franchise. The invite drew wide attention.\n",
            "\n",
            "To support this, SEO consultant Nigel Fitzgerald has decided to turn his office into the Wings over Angels Lounge, a restaurant exclusively for beer lovers. The guests with wings can sit under trees, and drinking from oversized, custom-made bottles.\n",
            "\n",
            "Is there seating for 40? Or 50?\n",
            "\n",
            "Voted Wings over Angels Wanna buy that restaurant list? Worried Wing members? Contact us to find out.\n",
            "\n",
            "Notebooks reserved for serious beer lovers also take UP to\n",
            "********************************************************************************\n",
            "Pass Text to Model >>> Human reason, in one sphere of its cognition, is called upon to consider questions, which it cannot decline, as they are presented by its own nature, but which it cannot answer, as they transcend every faculty of the mind.\n",
            "======================================== SAMPLE 1 ========================================\n",
            " Whether it be the determination of the nature of an object, when brought before it, whether a bow strokes the earth with intercourse, a queen encounters his reluctant opponent, there must be something thereto belonging unto reason, which within itself declares itself open to contradiction, and dispensation, and anything else which it can say.\n",
            "\n",
            "To this problem there is often a mistake, a disposition to keep confused, or considered from a devourst geometrical method.\n",
            "\n",
            "The revelation of first principles, and revelation of their shackles, developing all manner of evil instruments, in wants and in miseries, is for science found to gather material that is nature in its own sight difficult, useless and immovable, whereas the empirical view provides still more advantage. The enemy of the experimenter is her – to add again so unfortunate an author, who thought to bind such as he already has to simpler, sooner equal coherence what he flings on to this natural system of principles.\n",
            "\n",
            "Thus, science necessarily does not go beyond the excluded case, but, from the doctrine of appearances, pure philosophy goes to infinity, whilst the more perfect of all those modes of thought ducks under the yoat of papilion Women and proskyrks.\n",
            "\n",
            "Let Nature speak that ingenuity's revelry for herself! Let Science alter that scintilla which foundations and breadboy users fill with Newton's Plan; let it bow its head in the culminating defiance of doubtful suggestions, although this lasts nor ver\n",
            "********************************************************************************\n"
          ],
          "name": "stdout"
        }
      ]
    }
  ]
}